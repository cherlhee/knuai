{
  "nbformat": 4,
  "nbformat_minor": 0,
  "metadata": {
    "colab": {
      "provenance": [],
      "authorship_tag": "ABX9TyM9ziPyXcPcU7RGDzNOGvpx",
      "include_colab_link": true
    },
    "kernelspec": {
      "name": "python3",
      "display_name": "Python 3"
    },
    "language_info": {
      "name": "python"
    }
  },
  "cells": [
    {
      "cell_type": "markdown",
      "metadata": {
        "id": "view-in-github",
        "colab_type": "text"
      },
      "source": [
        "<a href=\"https://colab.research.google.com/github/cherlhee/knuai/blob/main/azma_aicode.ipynb\" target=\"_parent\"><img src=\"https://colab.research.google.com/assets/colab-badge.svg\" alt=\"Open In Colab\"/></a>"
      ]
    },
    {
      "cell_type": "code",
      "source": [],
      "metadata": {
        "id": "Vk3dBVqByeti"
      },
      "execution_count": null,
      "outputs": []
    },
    {
      "cell_type": "markdown",
      "source": [
        "### 1.1 단일뉴런 신경망 구현하기;\n",
        "\\\\\n",
        "\n",
        "\n",
        "\n",
        "$u= \\sum_{k=0}^{n}{(x_k w_x + y_k w_y)} + b $\n",
        "\n",
        "\n",
        "\n",
        "\n",
        "<img src=\"https://drive.google.com/uc?id=17eZwVdPJvf7YHmQOg2CEDCfTzqFYA_5Q\">"
      ],
      "metadata": {
        "id": "EOiAJAmbO6to"
      }
    },
    {
      "cell_type": "markdown",
      "source": [],
      "metadata": {
        "id": "p9bIz7payOLy"
      }
    },
    {
      "cell_type": "code",
      "source": [
        "import numpy as np\n",
        "import matplotlib.pyplot as plt"
      ],
      "metadata": {
        "id": "UvaCWQJWQeTR"
      },
      "execution_count": 3,
      "outputs": []
    },
    {
      "cell_type": "code",
      "source": [
        "\n",
        "X = np.arange(-1.0, 1.0, 0.2)\n",
        "Y = np.arange(-1.0, 1.0, 0.2)\n",
        "\n",
        "Z = np.zeros((len(X), len(Y)))\n",
        "# why not?\n",
        "# Z = np.zeros(len(X), len(Y))\n",
        "\n",
        "print(Z)"
      ],
      "metadata": {
        "id": "OdQJegphLgM8",
        "colab": {
          "base_uri": "https://localhost:8080/",
          "height": 0
        },
        "outputId": "022952d4-f0a9-4783-97f5-41ae33fa8c57"
      },
      "execution_count": 8,
      "outputs": [
        {
          "output_type": "stream",
          "name": "stdout",
          "text": [
            "[[0. 0. 0. 0. 0. 0. 0. 0. 0. 0.]\n",
            " [0. 0. 0. 0. 0. 0. 0. 0. 0. 0.]\n",
            " [0. 0. 0. 0. 0. 0. 0. 0. 0. 0.]\n",
            " [0. 0. 0. 0. 0. 0. 0. 0. 0. 0.]\n",
            " [0. 0. 0. 0. 0. 0. 0. 0. 0. 0.]\n",
            " [0. 0. 0. 0. 0. 0. 0. 0. 0. 0.]\n",
            " [0. 0. 0. 0. 0. 0. 0. 0. 0. 0.]\n",
            " [0. 0. 0. 0. 0. 0. 0. 0. 0. 0.]\n",
            " [0. 0. 0. 0. 0. 0. 0. 0. 0. 0.]\n",
            " [0. 0. 0. 0. 0. 0. 0. 0. 0. 0.]]\n"
          ]
        }
      ]
    },
    {
      "cell_type": "code",
      "source": [
        "# weighting value;\n",
        "w_x = 2.5\n",
        "w_y = 3.0\n",
        "\n",
        "bias = 0.1\n",
        "\n",
        "\n",
        "for i in range(len(X)):\n",
        "    for j in range(len(Y)):\n",
        "\n",
        "        u = X[i]*w_x + Y[j]*w_y + bias\n",
        "\n",
        "\n",
        "        # sigmoid function;\n",
        "        y = 1/(1+np.exp(-u))\n",
        "\n",
        "        Z[j][i] = y\n",
        "\n",
        "\n",
        "\n",
        "plt.imshow(Z, cmap='gray')\n",
        "plt.colorbar()\n",
        "plt.show()\n",
        "\n"
      ],
      "metadata": {
        "colab": {
          "base_uri": "https://localhost:8080/",
          "height": 430
        },
        "id": "vvzX7IHnNZy7",
        "outputId": "23edccfb-1c17-4166-f8d1-0d43d9476f23"
      },
      "execution_count": 9,
      "outputs": [
        {
          "output_type": "display_data",
          "data": {
            "text/plain": [
              "<Figure size 640x480 with 2 Axes>"
            ],
            "image/png": "[encoded data removed]"
          },
          "metadata": {}
        }
      ]
    }
  ]
}